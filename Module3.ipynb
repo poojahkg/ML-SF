{
 "cells": [
  {
   "cell_type": "markdown",
   "metadata": {
    "colab_type": "text",
    "id": "yvRFuFBLrsac"
   },
   "source": [
    "# Machine Learning Basics\n",
    "In this module, you'll be implementing a simple Linear Regressor and Logistic Regressor. You will be using the Salary Data for the tasks in this module. <br> <br>\n",
    "**Pipeline:**\n",
    "* Acquiring the data - done\n",
    "* Handling files and formats - done\n",
    "* Data Analysis - done\n",
    "* Prediction\n",
    "* Analysing results"
   ]
  },
  {
   "cell_type": "markdown",
   "metadata": {
    "colab_type": "text",
    "id": "AwvgLLICtyt_"
   },
   "source": [
    "## Imports\n",
    "You may require NumPy, pandas, matplotlib and scikit-learn for this module. Do not, however, use the inbuilt Linear and Logistic Regressors from scikit-learn."
   ]
  },
  {
   "cell_type": "code",
   "execution_count": 152,
   "metadata": {},
   "outputs": [],
   "source": [
    "import numpy as np\n",
    "import pandas as pd\n",
    "import matplotlib.pyplot as plt\n",
    "import sklearn\n",
    "from sklearn.metrics import confusion_matrix"
   ]
  },
  {
   "cell_type": "markdown",
   "metadata": {
    "colab_type": "text",
    "id": "yE5Sz6nKvjTS"
   },
   "source": [
    "## Dataset\n",
    "You can load the dataset and perform any dataset related operations here. Split the data into training and testing sets. Do this separately for the regression and classification problems."
   ]
  },
  {
   "cell_type": "code",
   "execution_count": 153,
   "metadata": {},
   "outputs": [],
   "source": [
    "lin_df = pd.read_csv(\"D:\\Work\\SF\\ML-SF-master\\ML-SF-master\\Data\\SalaryData.csv\",index_col=[0])\n",
    "lin_df = lin_df.iloc[:,0].str.split(' ', expand = True)\n",
    "lin_X = lin_df.iloc[:,0].values\n",
    "lin_y = lin_df.iloc[:,1].values\n",
    "lin_df.columns = ['Years','Salary']\n",
    "m = len(lin_X)"
   ]
  },
  {
   "cell_type": "code",
   "execution_count": 154,
   "metadata": {},
   "outputs": [],
   "source": [
    "log_df = pd.read_csv(\"D:\\Work\\SF\\ML-SF-master\\ML-SF-master\\Data\\SalaryData.csv\",index_col=[0])\n",
    "log_df = log_df.iloc[:,0].str.split(' ', expand = True)\n",
    "newCol = np.array([0]* log_df.shape[0])\n",
    "log_df.columns = ['Years','Salary']\n",
    "i = 0\n",
    "for sal in log_df['Salary']:\n",
    "    newCol[i] = int(sal) < 60000\n",
    "    i+=1\n",
    "log_df['Salary<60000'] = newCol\n",
    "log_X = log_df.iloc[:,0].values\n",
    "log_y = log_df.iloc[:,2].values"
   ]
  },
  {
   "cell_type": "code",
   "execution_count": 155,
   "metadata": {},
   "outputs": [],
   "source": [
    "from sklearn.model_selection import train_test_split\n",
    "lin_X_train, lin_X_test, lin_y_train, lin_y_test = train_test_split(lin_X, lin_y, test_size = 0.25, random_state = 0)\n",
    "\n",
    "lin_X_train = lin_X_train.reshape(-1,1)\n",
    "lin_y_train = lin_y_train.reshape(-1,1)\n",
    "lin_X_test = lin_X_test.reshape(-1,1)\n",
    "lin_y_test = lin_y_test.reshape(-1,1)\n",
    "\n",
    "from sklearn.preprocessing import StandardScaler\n",
    "\n",
    "scaler1 = StandardScaler()\n",
    "lin_X_train = scaler1.fit_transform(lin_X_train)\n",
    "lin_X_test = scaler1.fit_transform(lin_X_test)\n",
    "\n",
    "scaler2 = StandardScaler()\n",
    "lin_y_train = scaler2.fit_transform(lin_y_train)\n",
    "lin_y_test = scaler2.fit_transform(lin_y_test)"
   ]
  },
  {
   "cell_type": "code",
   "execution_count": 156,
   "metadata": {},
   "outputs": [],
   "source": [
    "from sklearn.model_selection import train_test_split\n",
    "log_X_train, log_X_test, log_y_train, log_y_test = train_test_split(log_X, log_y, test_size = 0.25, random_state = 0)\n",
    "\n",
    "log_X_train = log_X_train.reshape(-1,1)\n",
    "log_y_train = log_y_train.reshape(-1,1)\n",
    "log_X_test = log_X_test.reshape(-1,1)\n",
    "log_y_test = log_y_test.reshape(-1,1)\n",
    "\n",
    "from sklearn.preprocessing import MinMaxScaler\n",
    "scaler = MinMaxScaler() \n",
    "log_X_train = scaler.fit_transform(log_X_train)\n",
    "log_X_test = scaler.fit_transform(log_X_test)\n",
    "log_y_train = scaler.fit_transform(log_y_train)\n",
    "log_y_test = scaler.fit_transform(log_y_test)"
   ]
  },
  {
   "cell_type": "markdown",
   "metadata": {
    "colab_type": "text",
    "id": "VienPTZA1ZEr"
   },
   "source": [
    "## Task 1a - Linear Regressor\n",
    "Code your own Linear Regressor here, and fit it to your training data. You will be predicting salary based on years of experience."
   ]
  },
  {
   "cell_type": "code",
   "execution_count": 157,
   "metadata": {},
   "outputs": [
    {
     "data": {
      "image/png": "[encoded data removed]",
      "text/plain": [
       "<Figure size 432x288 with 1 Axes>"
      ]
     },
     "metadata": {
      "needs_background": "light"
     },
     "output_type": "display_data"
    }
   ],
   "source": [
    "fig,ax1 = plt.subplots()\n",
    "\n",
    "ax1.scatter(x = lin_X,y=lin_y)\n",
    "ax1.set_title('Linear Regression Plot',fontsize=25)\n",
    "ax1.set_xlabel('Experience',fontsize=18)\n",
    "ax1.set_ylabel('Salary',fontsize=18)\n",
    "plt.show()"
   ]
  },
  {
   "cell_type": "code",
   "execution_count": 158,
   "metadata": {},
   "outputs": [],
   "source": [
    "def hypothesis(w1,w0,X):\n",
    "    return((w1*X) + w0) "
   ]
  },
  {
   "cell_type": "code",
   "execution_count": 159,
   "metadata": {},
   "outputs": [],
   "source": [
    "def costfunction(X,y,w0,w1,N):\n",
    "    cost = 0\n",
    "    for i in range(N-1):\n",
    "        cost += (hypothesis(w1,w0,X[i])-y[i])**2\n",
    "    return cost/N"
   ]
  },
  {
   "cell_type": "code",
   "execution_count": 160,
   "metadata": {},
   "outputs": [],
   "source": [
    "def grad_des(X,y,w1,w0,N):\n",
    "    w1_new = 0\n",
    "    w0_new = 0\n",
    "    alpha = 0.05\n",
    "    for i in range(N):\n",
    "        w1_new += ((hypothesis(w1,w0,X[i])-y[i])*X[i])*2\n",
    "        w0_new += (hypothesis(w1,w0,X[i])-y[i])*2\n",
    "    w1 -= (alpha*(1/N)*w1_new)\n",
    "    w0 -= (alpha*(1/N)*w0_new)\n",
    "    return w1,w0"
   ]
  },
  {
   "cell_type": "code",
   "execution_count": 161,
   "metadata": {},
   "outputs": [],
   "source": [
    "def train(X,y,w1,w0,epochs):\n",
    "    for i in range(epochs):\n",
    "        w1,w0 = grad_des(X,y,w1,w0,len(X))\n",
    "        if (i%10==0):\n",
    "            c = costfunction(X,y,w1,w0,len(X))\n",
    "            print('Cost in epoch no: ',i)\n",
    "            print(c)\n",
    "    return w1,w0"
   ]
  },
  {
   "cell_type": "code",
   "execution_count": 162,
   "metadata": {},
   "outputs": [],
   "source": [
    "def predict(w1,w0,X):\n",
    "    y = [0.0 for i in range(len(X))]\n",
    "    for i in range(len(X)):\n",
    "        y[i] = float(w1*X[i] + w0)\n",
    "    return y"
   ]
  },
  {
   "cell_type": "code",
   "execution_count": 163,
   "metadata": {},
   "outputs": [
    {
     "name": "stdout",
     "output_type": "stream",
     "text": [
      "Cost in epoch no:  0\n",
      "[0.98333836]\n",
      "Cost in epoch no:  10\n",
      "[1.36254779]\n",
      "Cost in epoch no:  20\n",
      "[1.63968782]\n",
      "Cost in epoch no:  30\n",
      "[1.7539392]\n",
      "Cost in epoch no:  40\n",
      "[1.79591821]\n",
      "Cost in epoch no:  50\n",
      "[1.8108158]\n",
      "Cost in epoch no:  60\n",
      "[1.81604193]\n",
      "Cost in epoch no:  70\n",
      "[1.81786802]\n",
      "Cost in epoch no:  80\n",
      "[1.81850521]\n",
      "Cost in epoch no:  90\n",
      "[1.81872744]\n",
      "The optimum value of w1 and w0:  [0.96927367] [1.10517656e-16]\n"
     ]
    }
   ],
   "source": [
    "w1,w0 = train(lin_X_train,lin_y_train,0,0,100)\n",
    "print(\"The optimum value of w1 and w0: \", w1,w0)"
   ]
  },
  {
   "cell_type": "code",
   "execution_count": 164,
   "metadata": {},
   "outputs": [],
   "source": [
    "lin_y_pred = predict(w1,w0,lin_X_test)"
   ]
  },
  {
   "cell_type": "code",
   "execution_count": 165,
   "metadata": {},
   "outputs": [],
   "source": [
    "def my_formula(x):\n",
    "    return w0 + w1*x\n",
    "\n",
    "def graph(formula, x_range):  \n",
    "    x = np.array(x_range)  \n",
    "    y = formula(x)  \n",
    "    plt.plot(x, y)  "
   ]
  },
  {
   "cell_type": "code",
   "execution_count": 172,
   "metadata": {},
   "outputs": [
    {
     "data": {
      "image/png": "[encoded data removed]",
      "text/plain": [
       "<Figure size 432x288 with 1 Axes>"
      ]
     },
     "metadata": {
      "needs_background": "light"
     },
     "output_type": "display_data"
    }
   ],
   "source": [
    "plt.scatter(lin_X_train,lin_y_train, c = \"red\", marker = 'o')\n",
    "graph(my_formula, range(-2,3))\n",
    "plt.title('Salary vs Experience (Training set)')\n",
    "plt.xlabel('Years of Experience')\n",
    "plt.ylabel('Salary')\n",
    "plt.show()"
   ]
  },
  {
   "cell_type": "code",
   "execution_count": 174,
   "metadata": {},
   "outputs": [
    {
     "data": {
      "image/png": "[encoded data removed]",
      "text/plain": [
       "<Figure size 432x288 with 1 Axes>"
      ]
     },
     "metadata": {
      "needs_background": "light"
     },
     "output_type": "display_data"
    }
   ],
   "source": [
    "plt.scatter(lin_X_test,lin_y_test, c = \"red\", marker = 'o')\n",
    "graph(my_formula, range(-2,3))\n",
    "plt.title('Salary vs Experience (Testing set)')\n",
    "plt.xlabel('Years of Experience')\n",
    "plt.ylabel('Salary')\n",
    "plt.show()"
   ]
  },
  {
   "cell_type": "code",
   "execution_count": 175,
   "metadata": {},
   "outputs": [
    {
     "name": "stdout",
     "output_type": "stream",
     "text": [
      "MAE: 0.09228442920047945\n",
      "MSE: 0.010426387642724019\n",
      "RMSE: 0.10210968437285475\n"
     ]
    }
   ],
   "source": [
    "from sklearn import metrics\n",
    "\n",
    "print('MAE:', metrics.mean_absolute_error(lin_y_test, lin_y_pred))\n",
    "print('MSE:', metrics.mean_squared_error(lin_y_test, lin_y_pred))\n",
    "print('RMSE:', np.sqrt(metrics.mean_squared_error(lin_y_test, lin_y_pred)))"
   ]
  },
  {
   "cell_type": "markdown",
   "metadata": {},
   "source": [
    "## Task 1b - Logistic Regression\n",
    "Code your own Logistic Regressor here, and fit it to your training data. You will first have to create a column, 'Salary<60000', which contains '1' if salary is less than 60000 and '0' otherwise. This is your target variable, which you will aim to predict based on years of experience."
   ]
  },
  {
   "cell_type": "code",
   "execution_count": 176,
   "metadata": {
    "scrolled": true
   },
   "outputs": [
    {
     "data": {
      "image/png": "[encoded data removed]",
      "text/plain": [
       "<Figure size 432x288 with 1 Axes>"
      ]
     },
     "metadata": {
      "needs_background": "light"
     },
     "output_type": "display_data"
    }
   ],
   "source": [
    "fig,ax2 = plt.subplots()\n",
    "ax2.scatter(x=log_X,y=log_y)\n",
    "ax2.set_title('Logistic Regression Plot',fontsize=25)\n",
    "ax2.set_xlabel('Experience',fontsize=18)\n",
    "ax2.set_ylabel('Salary < 60000',fontsize=18)\n",
    "plt.show()"
   ]
  },
  {
   "cell_type": "code",
   "execution_count": 177,
   "metadata": {},
   "outputs": [],
   "source": [
    "def hypothesis(w1,w0,X):\n",
    "    return (1/(1+np.exp(-((w1*X)+w0)))) "
   ]
  },
  {
   "cell_type": "code",
   "execution_count": 178,
   "metadata": {},
   "outputs": [],
   "source": [
    "def costfunction(X,y,w0,w1,N):\n",
    "    cost = 0\n",
    "    for i in range(N-1):\n",
    "        h = hypothesis(w1,w0,X[i])\n",
    "        cost += ((-y[i] * np.log(h)) + ((1 - y[i]) * np.log(1 - h)))\n",
    "    return cost/N"
   ]
  },
  {
   "cell_type": "code",
   "execution_count": 179,
   "metadata": {},
   "outputs": [],
   "source": [
    "def grad_des(X,y,w1,w0,N):\n",
    "    w1_new = 0\n",
    "    w0_new = 0\n",
    "    alpha = 0.05\n",
    "    for i in range(N):\n",
    "        w1_new += ((hypothesis(w1,w0,X[i])-y[i])*X[i])*2\n",
    "        w0_new += (hypothesis(w1,w0,X[i])-y[i])*2\n",
    "    w1 -= (alpha*(1/N)*w1_new)\n",
    "    w0 -= (alpha*(1/N)*w0_new)\n",
    "    return w1,w0"
   ]
  },
  {
   "cell_type": "code",
   "execution_count": 180,
   "metadata": {},
   "outputs": [],
   "source": [
    "def train(X,y,w1,w0,epochs):\n",
    "    for i in range(epochs):\n",
    "        w1,w0 = grad_des(X,y,w1,w0,len(X))\n",
    "        if (i%10==0):\n",
    "            c = costfunction(X,y,w1,w0,len(X))\n",
    "            print('Cost in epoch no: ',i)\n",
    "            print(c)\n",
    "    return w1,w0"
   ]
  },
  {
   "cell_type": "code",
   "execution_count": 181,
   "metadata": {},
   "outputs": [],
   "source": [
    "def predict(w1,w0,X):\n",
    "    y = [0.0 for i in range(len(X))]\n",
    "    for i in range(len(X)):\n",
    "        y[i]=(1/(1+np.exp(-(w1*X[i]+w0))))\n",
    "    return y"
   ]
  },
  {
   "cell_type": "code",
   "execution_count": 182,
   "metadata": {},
   "outputs": [
    {
     "name": "stdout",
     "output_type": "stream",
     "text": [
      "Cost in epoch no:  0\n",
      "[-0.21094499]\n",
      "Cost in epoch no:  10\n",
      "[-0.12752816]\n",
      "Cost in epoch no:  20\n",
      "[-0.06171198]\n",
      "Cost in epoch no:  30\n",
      "[-0.00795374]\n",
      "Cost in epoch no:  40\n",
      "[0.03738759]\n",
      "Cost in epoch no:  50\n",
      "[0.07672966]\n",
      "Cost in epoch no:  60\n",
      "[0.11170711]\n",
      "Cost in epoch no:  70\n",
      "[0.14344697]\n",
      "Cost in epoch no:  80\n",
      "[0.17274048]\n",
      "Cost in epoch no:  90\n",
      "[0.20015223]\n",
      "Cost in epoch no:  100\n",
      "[0.22609064]\n",
      "Cost in epoch no:  110\n",
      "[0.2508547]\n",
      "Cost in epoch no:  120\n",
      "[0.27466559]\n",
      "Cost in epoch no:  130\n",
      "[0.29768839]\n",
      "Cost in epoch no:  140\n",
      "[0.32004737]\n",
      "Cost in epoch no:  150\n",
      "[0.34183684]\n",
      "Cost in epoch no:  160\n",
      "[0.36312897]\n",
      "Cost in epoch no:  170\n",
      "[0.38397943]\n",
      "Cost in epoch no:  180\n",
      "[0.40443159]\n",
      "Cost in epoch no:  190\n",
      "[0.4245196]\n",
      "Cost in epoch no:  200\n",
      "[0.44427061]\n",
      "Cost in epoch no:  210\n",
      "[0.46370652]\n",
      "Cost in epoch no:  220\n",
      "[0.48284523]\n",
      "Cost in epoch no:  230\n",
      "[0.50170159]\n",
      "Cost in epoch no:  240\n",
      "[0.52028811]\n",
      "Cost in epoch no:  250\n",
      "[0.5386155]\n",
      "Cost in epoch no:  260\n",
      "[0.55669312]\n",
      "Cost in epoch no:  270\n",
      "[0.57452919]\n",
      "Cost in epoch no:  280\n",
      "[0.59213113]\n",
      "Cost in epoch no:  290\n",
      "[0.60950566]\n",
      "The optimum value of w1 and w0:  [-2.11586729] [0.15743326]\n"
     ]
    }
   ],
   "source": [
    "w1,w0 = train(log_X_train,log_y_train,0,0,300)\n",
    "print(\"The optimum value of w1 and w0: \", w1,w0)"
   ]
  },
  {
   "cell_type": "code",
   "execution_count": 186,
   "metadata": {},
   "outputs": [],
   "source": [
    "log_y_pred = predict(w1,w0,log_X_test)"
   ]
  },
  {
   "cell_type": "code",
   "execution_count": 187,
   "metadata": {},
   "outputs": [],
   "source": [
    "for i in range(len(log_y_pred)):\n",
    "    if(log_y_pred[i]>=0.5):\n",
    "        log_y_pred[i] = 1\n",
    "    else:\n",
    "        log_y_pred[i] = 0\n",
    "for i in range(len(log_y_test)):\n",
    "    if(log_y_test[i]>=0.5):\n",
    "        log_y_test[i] = 1\n",
    "    else:\n",
    "        log_y_test[i] = 0"
   ]
  },
  {
   "cell_type": "code",
   "execution_count": 188,
   "metadata": {},
   "outputs": [
    {
     "name": "stdout",
     "output_type": "stream",
     "text": [
      "[[5 0]\n",
      " [2 1]]\n",
      "\n",
      "\n",
      "\n",
      "              precision    recall  f1-score   support\n",
      "\n",
      "         0.0       0.71      1.00      0.83         5\n",
      "         1.0       1.00      0.33      0.50         3\n",
      "\n",
      "    accuracy                           0.75         8\n",
      "   macro avg       0.86      0.67      0.67         8\n",
      "weighted avg       0.82      0.75      0.71         8\n",
      "\n"
     ]
    }
   ],
   "source": [
    "from sklearn.metrics import classification_report, confusion_matrix\n",
    "\n",
    "print(confusion_matrix(log_y_test,log_y_pred))\n",
    "print(\"\\n\\n\")\n",
    "print(classification_report(log_y_test,log_y_pred))"
   ]
  },
  {
   "cell_type": "markdown",
   "metadata": {
    "colab_type": "text",
    "id": "vaCu6RS52qYf"
   },
   "source": [
    "## Task 2 - Results\n",
    "Analyse the quality of the ML models you built using metrics such as R2, MAE and RMSE for the Linear Regressor, and Accuracy for the Logistic Regressor. Evaluate their performance on the testing set."
   ]
  },
  {
   "cell_type": "code",
   "execution_count": null,
   "metadata": {},
   "outputs": [],
   "source": []
  }
 ],
 "metadata": {
  "colab": {
   "name": "Untitled15.ipynb",
   "provenance": [],
   "version": "0.3.2"
  },
  "kernelspec": {
   "display_name": "Python 3",
   "language": "python",
   "name": "python3"
  },
  "language_info": {
   "codemirror_mode": {
    "name": "ipython",
    "version": 3
   },
   "file_extension": ".py",
   "mimetype": "text/x-python",
   "name": "python",
   "nbconvert_exporter": "python",
   "pygments_lexer": "ipython3",
   "version": "3.7.6"
  }
 },
 "nbformat": 4,
 "nbformat_minor": 1
}
